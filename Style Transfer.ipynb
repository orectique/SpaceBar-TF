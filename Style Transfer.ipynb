{
 "cells": [
  {
   "cell_type": "code",
   "execution_count": 1,
   "id": "8819c8f7",
   "metadata": {},
   "outputs": [],
   "source": [
    "import os\n",
    "import tensorflow as tf\n",
    "# Load compressed models from tensorflow_hub\n",
    "os.environ['TFHUB_MODEL_LOAD_FORMAT'] = 'COMPRESSED'"
   ]
  },
  {
   "cell_type": "code",
   "execution_count": 2,
   "id": "4149516c",
   "metadata": {},
   "outputs": [],
   "source": [
    "import IPython.display as display\n",
    "\n",
    "import matplotlib.pyplot as plt\n",
    "import matplotlib as mpl\n",
    "mpl.rcParams['figure.figsize'] = (12, 12)\n",
    "mpl.rcParams['axes.grid'] = False\n",
    "\n",
    "import numpy as np\n",
    "import PIL.Image\n",
    "import time\n",
    "import functools"
   ]
  },
  {
   "cell_type": "code",
   "execution_count": 3,
   "id": "77968ffd",
   "metadata": {},
   "outputs": [],
   "source": [
    "def tensor_to_image(tensor):\n",
    "  tensor = tensor*255\n",
    "  tensor = np.array(tensor, dtype=np.uint8)\n",
    "  if np.ndim(tensor)>3:\n",
    "    assert tensor.shape[0] == 1\n",
    "    tensor = tensor[0]\n",
    "  return PIL.Image.fromarray(tensor)"
   ]
  },
  {
   "cell_type": "code",
   "execution_count": 4,
   "id": "554ddfdf",
   "metadata": {},
   "outputs": [],
   "source": [
    "content_path = tf.keras.utils.get_file('YellowLabradorLooking_new.jpg', 'https://storage.googleapis.com/download.tensorflow.org/example_images/YellowLabradorLooking_new.jpg')\n",
    "style_path = tf.keras.utils.get_file('kandinsky5.jpg','https://storage.googleapis.com/download.tensorflow.org/example_images/Vassily_Kandinsky%2C_1913_-_Composition_7.jpg')"
   ]
  },
  {
   "cell_type": "code",
   "execution_count": 4,
   "id": "aa674f9a-b1e0-48b2-8537-6adedcfd7082",
   "metadata": {},
   "outputs": [],
   "source": [
    "content_path = tf.keras.utils.get_file('Sreehari.jpeg', 'https://github.com/orectique/SpaceBar-TF/blob/09d291f1662694635e65488bf5b86e87424ca826/Sreehari.jpeg')\n",
    "style_path = tf.keras.utils.get_file('milky-way.jpeg','https://github.com/orectique/SpaceBar-TF/blob/09d291f1662694635e65488bf5b86e87424ca826/milky-way.jpeg')"
   ]
  },
  {
   "cell_type": "code",
   "execution_count": 5,
   "id": "c03ae9a9",
   "metadata": {},
   "outputs": [],
   "source": [
    "content_path = tf.keras.utils.get_file('Sreehari.jpeg', './Sreehari.jpeg')\n",
    "style_path = tf.keras.utils.get_file('milky-way.jpeg','./milky-way.jpeg')"
   ]
  },
  {
   "cell_type": "markdown",
   "id": "51cd9904-d8f9-4c41-8422-1544a3fc2832",
   "metadata": {},
   "source": [
    "https://github.com/orectique/SpaceBar-TF/blob/26161a9ba58634b6a4d9e96a187b601ff175d5a2/Sreehari.jpg\n",
    "\n",
    "https://github.com/orectique/SpaceBar-TF/blob/26161a9ba58634b6a4d9e96a187b601ff175d5a2/milky-way-1023340_1920.jpg"
   ]
  },
  {
   "cell_type": "code",
   "execution_count": 5,
   "id": "2e57a3f1-b432-4ef1-bf8a-f341283d1bd0",
   "metadata": {},
   "outputs": [],
   "source": [
    "def load_img(path_to_img):\n",
    "  max_dim = 512\n",
    "  img = tf.io.read_file(path_to_img)\n",
    "  img = tf.image.decode_image(img, channels=3)\n",
    "  img = tf.image.convert_image_dtype(img, tf.float32)\n",
    "\n",
    "  shape = tf.cast(tf.shape(img)[:-1], tf.float32)\n",
    "  long_dim = max(shape)\n",
    "  scale = max_dim / long_dim\n",
    "\n",
    "  new_shape = tf.cast(shape * scale, tf.int32)\n",
    "\n",
    "  img = tf.image.resize(img, new_shape)\n",
    "  img = img[tf.newaxis, :]\n",
    "  return img"
   ]
  },
  {
   "cell_type": "code",
   "execution_count": 6,
   "id": "4abd2e8f-fce3-4d1e-8e43-31e581a4c064",
   "metadata": {},
   "outputs": [],
   "source": [
    "def imshow(image, title=None):\n",
    "  if len(image.shape) > 3:\n",
    "    image = tf.squeeze(image, axis=0)\n",
    "\n",
    "  plt.imshow(image)\n",
    "  if title:\n",
    "    plt.title(title)"
   ]
  },
  {
   "cell_type": "code",
   "execution_count": null,
   "id": "8c7226f5-b29f-4887-b4e1-568ae52fa7ae",
   "metadata": {},
   "outputs": [],
   "source": [
    "style_image = load_img(style_path)\n",
    "\n",
    "content_image = load_img(content_path)\n",
    "\n",
    "\n",
    "plt.subplot(1, 2, 1)\n",
    "imshow(content_image, 'Content Image')\n",
    "\n",
    "plt.subplot(1, 2, 2)\n",
    "imshow(style_image, 'Style Image')"
   ]
  },
  {
   "cell_type": "code",
   "execution_count": null,
   "id": "67302a27-b422-479d-ab1e-ce655126076d",
   "metadata": {},
   "outputs": [],
   "source": []
  },
  {
   "cell_type": "code",
   "execution_count": 1,
   "id": "1892ed7e-547e-42fd-92a6-914694a8de5c",
   "metadata": {},
   "outputs": [
    {
     "name": "stdout",
     "output_type": "stream",
     "text": [
      "5\n"
     ]
    }
   ],
   "source": [
    "print(5)"
   ]
  },
  {
   "cell_type": "code",
   "execution_count": null,
   "id": "6595a494-48ff-427d-932e-55c02053ff97",
   "metadata": {},
   "outputs": [],
   "source": []
  }
 ],
 "metadata": {
  "kernelspec": {
   "display_name": "Python 3 (ipykernel)",
   "language": "python",
   "name": "python3"
  },
  "language_info": {
   "codemirror_mode": {
    "name": "ipython",
    "version": 3
   },
   "file_extension": ".py",
   "mimetype": "text/x-python",
   "name": "python",
   "nbconvert_exporter": "python",
   "pygments_lexer": "ipython3",
   "version": "3.9.4"
  }
 },
 "nbformat": 4,
 "nbformat_minor": 5
}
